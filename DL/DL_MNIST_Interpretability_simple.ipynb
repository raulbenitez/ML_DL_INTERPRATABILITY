{
  "nbformat": 4,
  "nbformat_minor": 0,
  "metadata": {
    "colab": {
      "provenance": [],
      "authorship_tag": "ABX9TyPW+VPorJdsy+jwvVSI9H9Z",
      "include_colab_link": true
    },
    "kernelspec": {
      "name": "python3",
      "display_name": "Python 3"
    },
    "language_info": {
      "name": "python"
    }
  },
  "cells": [
    {
      "cell_type": "markdown",
      "metadata": {
        "id": "view-in-github",
        "colab_type": "text"
      },
      "source": [
        "<a href=\"https://colab.research.google.com/github/raulbenitez/ML_DL_INTERPRETABILITY/blob/main/DL/DL_MNIST_Interpretability_simple.ipynb\" target=\"_parent\"><img src=\"https://colab.research.google.com/assets/colab-badge.svg\" alt=\"Open In Colab\"/></a>"
      ]
    },
    {
      "cell_type": "markdown",
      "metadata": {
        "id": "kgVvoEL4Gtl3"
      },
      "source": [
        "## Load MNIST data"
      ]
    },
    {
      "cell_type": "code",
      "metadata": {
        "id": "OdV0nblx2le_",
        "colab": {
          "base_uri": "https://localhost:8080/"
        },
        "outputId": "539b9918-be59-413e-eba1-f7708dd37dca"
      },
      "source": [
        "import numpy as np\n",
        "from tensorflow import keras\n",
        "from tensorflow.keras import layers\n",
        "\n",
        "# Load data, split between train and test sets\n",
        "(x_train, y_train), (x_test, y_test) = keras.datasets.mnist.load_data()\n",
        "\n",
        "# Scale images to the [0, 1] range\n",
        "x_train = x_train.astype(\"float32\") / 255\n",
        "x_test = x_test.astype(\"float32\") / 255\n",
        "\n",
        "# Make sure images have shape (28, 28, 1)\n",
        "x_train = np.expand_dims(x_train, -1)\n",
        "x_test = np.expand_dims(x_test, -1)\n",
        "print(\"x_train shape:\", x_train.shape)\n",
        "print(x_train.shape[0], \"train samples\")\n",
        "print(x_test.shape[0], \"test samples\")\n"
      ],
      "execution_count": 1,
      "outputs": [
        {
          "output_type": "stream",
          "name": "stdout",
          "text": [
            "Downloading data from https://storage.googleapis.com/tensorflow/tf-keras-datasets/mnist.npz\n",
            "11490434/11490434 [==============================] - 0s 0us/step\n",
            "x_train shape: (60000, 28, 28, 1)\n",
            "60000 train samples\n",
            "10000 test samples\n"
          ]
        }
      ]
    },
    {
      "cell_type": "markdown",
      "metadata": {
        "id": "6YcDh_MvrU59"
      },
      "source": [
        "## Train DL model\n",
        "\n",
        "Both feature extraction and classification are performed using a simple custom-made CNN architecture trained with the MNIST training subset.\n",
        "MNIST classification using a simple CNN architecture\n",
        "\n",
        "From: https://keras.io/examples/vision/mnist_convnet/\n"
      ]
    },
    {
      "cell_type": "markdown",
      "metadata": {
        "id": "lCyWqj6K2le-"
      },
      "source": [
        "### Build and train"
      ]
    },
    {
      "cell_type": "code",
      "metadata": {
        "id": "hSZkVvkQ2le_"
      },
      "source": [
        "import numpy as np\n",
        "from tensorflow import keras\n",
        "from tensorflow.keras import layers"
      ],
      "execution_count": 2,
      "outputs": []
    },
    {
      "cell_type": "code",
      "metadata": {
        "id": "FKCfESyNcSHH"
      },
      "source": [
        "# Model / data parameters\n",
        "num_classes = 10\n",
        "input_shape = (28, 28, 1)\n",
        "\n",
        "# convert class vectors to binary class matrices\n",
        "y_train_cat = keras.utils.to_categorical(y_train, num_classes)\n",
        "y_test_cat = keras.utils.to_categorical(y_test, num_classes)"
      ],
      "execution_count": 3,
      "outputs": []
    },
    {
      "cell_type": "code",
      "metadata": {
        "id": "cE9_PJL92lfA",
        "colab": {
          "base_uri": "https://localhost:8080/"
        },
        "outputId": "b2344189-cfa0-4c8c-e32f-5ded1c626d91"
      },
      "source": [
        "model = keras.Sequential(\n",
        "    [\n",
        "        keras.Input(shape=input_shape),\n",
        "        layers.Conv2D(32, kernel_size=(3, 3), activation=\"relu\"),\n",
        "        layers.MaxPooling2D(pool_size=(2, 2)),\n",
        "        layers.Conv2D(64, kernel_size=(3, 3), activation=\"relu\"),\n",
        "        layers.MaxPooling2D(pool_size=(2, 2)),\n",
        "        layers.Flatten(name=\"features\"),\n",
        "        layers.Dropout(0.5),\n",
        "        layers.Dense(num_classes, activation=\"softmax\"),\n",
        "    ]\n",
        ")\n",
        "\n",
        "model.summary()"
      ],
      "execution_count": 4,
      "outputs": [
        {
          "output_type": "stream",
          "name": "stdout",
          "text": [
            "Model: \"sequential\"\n",
            "_________________________________________________________________\n",
            " Layer (type)                Output Shape              Param #   \n",
            "=================================================================\n",
            " conv2d (Conv2D)             (None, 26, 26, 32)        320       \n",
            "                                                                 \n",
            " max_pooling2d (MaxPooling2D  (None, 13, 13, 32)       0         \n",
            " )                                                               \n",
            "                                                                 \n",
            " conv2d_1 (Conv2D)           (None, 11, 11, 64)        18496     \n",
            "                                                                 \n",
            " max_pooling2d_1 (MaxPooling  (None, 5, 5, 64)         0         \n",
            " 2D)                                                             \n",
            "                                                                 \n",
            " features (Flatten)          (None, 1600)              0         \n",
            "                                                                 \n",
            " dropout (Dropout)           (None, 1600)              0         \n",
            "                                                                 \n",
            " dense (Dense)               (None, 10)                16010     \n",
            "                                                                 \n",
            "=================================================================\n",
            "Total params: 34,826\n",
            "Trainable params: 34,826\n",
            "Non-trainable params: 0\n",
            "_________________________________________________________________\n"
          ]
        }
      ]
    },
    {
      "cell_type": "code",
      "metadata": {
        "id": "pw4ADww42lfA",
        "colab": {
          "base_uri": "https://localhost:8080/"
        },
        "outputId": "0fc1cd03-5182-4806-f8ce-59036fe4a43a"
      },
      "source": [
        "batch_size =256\n",
        "epochs = 5\n",
        "model.compile(loss=\"categorical_crossentropy\", optimizer=\"adam\", metrics=[\"accuracy\"])\n",
        "model.fit(x_train, y_train_cat, batch_size=batch_size, epochs=epochs, validation_split=0.1)"
      ],
      "execution_count": 9,
      "outputs": [
        {
          "output_type": "stream",
          "name": "stdout",
          "text": [
            "Epoch 1/5\n",
            "211/211 [==============================] - 35s 161ms/step - loss: 0.5143 - accuracy: 0.8479 - val_loss: 0.1117 - val_accuracy: 0.9687\n",
            "Epoch 2/5\n",
            "211/211 [==============================] - 34s 163ms/step - loss: 0.1426 - accuracy: 0.9567 - val_loss: 0.0699 - val_accuracy: 0.9803\n",
            "Epoch 3/5\n",
            "211/211 [==============================] - 31s 147ms/step - loss: 0.1022 - accuracy: 0.9690 - val_loss: 0.0542 - val_accuracy: 0.9860\n",
            "Epoch 4/5\n",
            "211/211 [==============================] - 33s 154ms/step - loss: 0.0869 - accuracy: 0.9739 - val_loss: 0.0472 - val_accuracy: 0.9883\n",
            "Epoch 5/5\n",
            "211/211 [==============================] - 31s 145ms/step - loss: 0.0738 - accuracy: 0.9770 - val_loss: 0.0442 - val_accuracy: 0.9882\n"
          ]
        },
        {
          "output_type": "stream",
          "name": "stderr",
          "text": [
            "WARNING:absl:Found untraced functions such as _jit_compiled_convolution_op, _jit_compiled_convolution_op, _update_step_xla while saving (showing 3 of 3). These functions will not be directly callable after loading.\n"
          ]
        }
      ]
    },
    {
      "cell_type": "markdown",
      "metadata": {
        "id": "kF5Cgb3c2lfB"
      },
      "source": [
        "### Evaluate"
      ]
    },
    {
      "cell_type": "code",
      "metadata": {
        "id": "ABgtK8YV2lfB",
        "colab": {
          "base_uri": "https://localhost:8080/"
        },
        "outputId": "91cd7b81-904a-467e-9f45-632c5ed43947"
      },
      "source": [
        "from sklearn.metrics import classification_report\n",
        "\n",
        "score = model.evaluate(x_test, y_test_cat, verbose=0)\n",
        "print(\"Test loss:\", score[0])\n",
        "print(\"Test accuracy:\", score[1])\n",
        "\n",
        "label_names = ['zero', 'one', 'two', 'three', 'four', 'five', 'six', 'seven', 'eight', 'nine']\n",
        "\n",
        "y_test_pred_DL_full = np.argmax(model.predict(x_test),axis=1) # convert back from one-hot categorical encoding to integers\n",
        "print(classification_report(y_test, y_test_pred_DL_full, target_names=label_names))"
      ],
      "execution_count": 12,
      "outputs": [
        {
          "output_type": "stream",
          "name": "stdout",
          "text": [
            "Test loss: 0.04425692930817604\n",
            "Test accuracy: 0.986299991607666\n",
            "313/313 [==============================] - 2s 7ms/step\n",
            "              precision    recall  f1-score   support\n",
            "\n",
            "        zero       0.98      1.00      0.99       980\n",
            "         one       0.99      1.00      0.99      1135\n",
            "         two       0.98      0.99      0.98      1032\n",
            "       three       0.99      0.98      0.99      1010\n",
            "        four       0.98      0.99      0.99       982\n",
            "        five       0.99      0.99      0.99       892\n",
            "         six       0.99      0.99      0.99       958\n",
            "       seven       0.97      0.98      0.98      1028\n",
            "       eight       0.98      0.98      0.98       974\n",
            "        nine       0.99      0.97      0.98      1009\n",
            "\n",
            "    accuracy                           0.99     10000\n",
            "   macro avg       0.99      0.99      0.99     10000\n",
            "weighted avg       0.99      0.99      0.99     10000\n",
            "\n"
          ]
        }
      ]
    },
    {
      "cell_type": "markdown",
      "metadata": {
        "id": "8Ek-bNeltfUt"
      },
      "source": [
        "# DL interpretability"
      ]
    },
    {
      "cell_type": "markdown",
      "metadata": {
        "id": "v65jJjZCwMzQ"
      },
      "source": [
        "Let's apply some DL interpretability techniques to further understand the DL feature extraction and classification procedure. Let's consider the full DL model architecture"
      ]
    },
    {
      "cell_type": "code",
      "metadata": {
        "colab": {
          "base_uri": "https://localhost:8080/"
        },
        "id": "k_L-wgzQ-W2Z",
        "outputId": "6a192c9e-7977-444d-bb12-d6eedce665f1"
      },
      "source": [
        "model.summary()"
      ],
      "execution_count": 13,
      "outputs": [
        {
          "output_type": "stream",
          "name": "stdout",
          "text": [
            "Model: \"sequential\"\n",
            "_________________________________________________________________\n",
            " Layer (type)                Output Shape              Param #   \n",
            "=================================================================\n",
            " conv2d (Conv2D)             (None, 26, 26, 32)        320       \n",
            "                                                                 \n",
            " max_pooling2d (MaxPooling2D  (None, 13, 13, 32)       0         \n",
            " )                                                               \n",
            "                                                                 \n",
            " conv2d_1 (Conv2D)           (None, 11, 11, 64)        18496     \n",
            "                                                                 \n",
            " max_pooling2d_1 (MaxPooling  (None, 5, 5, 64)         0         \n",
            " 2D)                                                             \n",
            "                                                                 \n",
            " features (Flatten)          (None, 1600)              0         \n",
            "                                                                 \n",
            " dropout (Dropout)           (None, 1600)              0         \n",
            "                                                                 \n",
            " dense (Dense)               (None, 10)                16010     \n",
            "                                                                 \n",
            "=================================================================\n",
            "Total params: 34,826\n",
            "Trainable params: 34,826\n",
            "Non-trainable params: 0\n",
            "_________________________________________________________________\n"
          ]
        }
      ]
    },
    {
      "cell_type": "markdown",
      "metadata": {
        "id": "nFevqkAswEkT"
      },
      "source": [
        "Check dimensions of all convolutional layers in the architecture"
      ]
    },
    {
      "cell_type": "code",
      "metadata": {
        "colab": {
          "base_uri": "https://localhost:8080/"
        },
        "id": "5EyM19fgwH_Y",
        "outputId": "71ff1b83-b466-4523-f0bd-331a04e8e346"
      },
      "source": [
        "for layer in model.layers:\n",
        "\tif 'conv' not in layer.name:\n",
        "\t\tcontinue\n",
        "\tfilters, biases = layer.get_weights()\n",
        "\tprint(layer.name, filters.shape)"
      ],
      "execution_count": 14,
      "outputs": [
        {
          "output_type": "stream",
          "name": "stdout",
          "text": [
            "conv2d (3, 3, 1, 32)\n",
            "conv2d_1 (3, 3, 32, 64)\n"
          ]
        }
      ]
    },
    {
      "cell_type": "markdown",
      "metadata": {
        "id": "10hwsDL2wNuB"
      },
      "source": [
        "## Visualize filters weights"
      ]
    },
    {
      "cell_type": "markdown",
      "metadata": {
        "id": "nZIHlSpZwiGE"
      },
      "source": [
        "Let's visualize the trained weights of the filters in the first convolutional layer"
      ]
    },
    {
      "cell_type": "code",
      "metadata": {
        "id": "3GpHvGjAwQnz"
      },
      "source": [
        "filters, biases = model.layers[0].get_weights()\n",
        "from matplotlib import pyplot\n",
        "\n",
        "# normalize filter values to 0-1 so we can visualize them\n",
        "f_min, f_max = filters.min(), filters.max()\n",
        "filters = (filters - f_min) / (f_max - f_min)\n",
        "\n",
        "filters.shape\n",
        "filters1 = filters.squeeze()"
      ],
      "execution_count": 15,
      "outputs": []
    },
    {
      "cell_type": "markdown",
      "metadata": {
        "id": "PtWifAz1wyff"
      },
      "source": [
        "In the first convolutional layer there are 32 filters, each of size 3x3\n"
      ]
    },
    {
      "cell_type": "code",
      "metadata": {
        "colab": {
          "base_uri": "https://localhost:8080/",
          "height": 560
        },
        "id": "1E3_bsGNwyoy",
        "outputId": "9d1ecdb6-1786-46c4-e7b8-8f811678a141"
      },
      "source": [
        "import matplotlib.pyplot as plt\n",
        "\n",
        "fig = plt.figure(figsize=(18, 8))\n",
        "for kfilt in range(0,32):\n",
        "    ax = fig.add_subplot(4, 8, kfilt+1)\n",
        "    ax.imshow(filters1[:,:,kfilt], cmap='gray')\n",
        "    ax.set_title('Filter = {}'.format(kfilt))\n",
        "    ax.axis('off')"
      ],
      "execution_count": 16,
      "outputs": [
        {
          "output_type": "display_data",
          "data": {
            "text/plain": [
              "<Figure size 1800x800 with 32 Axes>"
            ],
            "image/png": "[encoded data removed]"
          },
          "metadata": {}
        }
      ]
    },
    {
      "cell_type": "markdown",
      "metadata": {
        "id": "wH3O1d0XlUrq"
      },
      "source": [
        "## Vizualize the feature maps\n",
        "\n",
        "Feature maps are the result of projecting an input image across the different convolutional filters in the convolutional layers of the CNN."
      ]
    },
    {
      "cell_type": "code",
      "metadata": {
        "colab": {
          "base_uri": "https://localhost:8080/"
        },
        "id": "bNsP1vssk8q3",
        "outputId": "e2c44133-7664-4fcf-8e89-ebffae46ff3f"
      },
      "source": [
        "from tensorflow.keras.models import Model\n",
        "\n",
        "# define a new model with outputs the first layer\n",
        "model_feat_layer0  = Model(inputs=model.inputs, outputs=model.layers[0].output)\n",
        "model_feat_layer0.summary()\n",
        "\n",
        "# extract the features provided by the model of the test input\n",
        "feat_test_layer0 = model_feat_layer0.predict(x_test)\n",
        "\n",
        "print('layer 0 shape {}'.format(feat_test_layer0.shape))"
      ],
      "execution_count": 17,
      "outputs": [
        {
          "output_type": "stream",
          "name": "stdout",
          "text": [
            "Model: \"model\"\n",
            "_________________________________________________________________\n",
            " Layer (type)                Output Shape              Param #   \n",
            "=================================================================\n",
            " input_1 (InputLayer)        [(None, 28, 28, 1)]       0         \n",
            "                                                                 \n",
            " conv2d (Conv2D)             (None, 26, 26, 32)        320       \n",
            "                                                                 \n",
            "=================================================================\n",
            "Total params: 320\n",
            "Trainable params: 320\n",
            "Non-trainable params: 0\n",
            "_________________________________________________________________\n",
            "313/313 [==============================] - 1s 4ms/step\n",
            "layer 0 shape (10000, 26, 26, 32)\n"
          ]
        }
      ]
    },
    {
      "cell_type": "markdown",
      "metadata": {
        "id": "Mw4XWXd3l1rX"
      },
      "source": [
        "plot the feature maps corresponding to the first image in the test subset, which in this case corresponds to a"
      ]
    },
    {
      "cell_type": "code",
      "metadata": {
        "colab": {
          "base_uri": "https://localhost:8080/"
        },
        "id": "y2eIYyianrNj",
        "outputId": "17fb42f8-c82a-4ce7-b78d-e3980c544d5d"
      },
      "source": [
        "y_test[0]"
      ],
      "execution_count": 18,
      "outputs": [
        {
          "output_type": "execute_result",
          "data": {
            "text/plain": [
              "7"
            ]
          },
          "metadata": {},
          "execution_count": 18
        }
      ]
    },
    {
      "cell_type": "code",
      "metadata": {
        "colab": {
          "base_uri": "https://localhost:8080/",
          "height": 556
        },
        "id": "nXmAXF75l7ep",
        "outputId": "4068d8f2-2761-467e-eb19-a6bb88e2bb03"
      },
      "source": [
        "import matplotlib.pyplot as plt\n",
        "\n",
        "fig = plt.figure(figsize=(18, 8))\n",
        "for kfeat in range(0,32):\n",
        "    ax = fig.add_subplot(4, 8, kfeat+1)\n",
        "    ax.imshow(feat_test_layer0[0,:,:,kfeat], cmap='gray')\n",
        "    ax.set_title('Convolution = {}'.format(kfeat))\n",
        "    ax.axis('off')"
      ],
      "execution_count": 19,
      "outputs": [
        {
          "output_type": "display_data",
          "data": {
            "text/plain": [
              "<Figure size 1800x800 with 32 Axes>"
            ],
            "image/png": "[encoded data removed]"
          },
          "metadata": {}
        }
      ]
    },
    {
      "cell_type": "markdown",
      "metadata": {
        "id": "aoufqhwFk9Hv"
      },
      "source": [
        "## Activation Maximization\n",
        "\n",
        "https://raghakot.github.io/keras-vis/visualizations/activation_maximization/\n",
        "\n",
        "Generate an input image that maximizes the filter output activations. i.e., we compute\n",
        "\n",
        "$\\frac{\\partial ActivationMaximizationLoss}{\\partial input}$\n",
        "\n",
        "and use that estimate to update the input. ActivationMaximization loss simply outputs small values for large filter activations (we are minimizing losses during gradient descent iterations). This allows us to understand what sort of input patterns activate a particular filter. For example, there could be an eye filter that activates for the presence of eye within the input image."
      ]
    },
    {
      "cell_type": "code",
      "metadata": {
        "colab": {
          "base_uri": "https://localhost:8080/"
        },
        "id": "sdK6cIC8AGJ6",
        "outputId": "ed40c5e3-d16c-4070-b53a-0d1828cc89e1"
      },
      "source": [
        "!pip install tf-keras-vis"
      ],
      "execution_count": 20,
      "outputs": [
        {
          "output_type": "stream",
          "name": "stdout",
          "text": [
            "Looking in indexes: https://pypi.org/simple, https://us-python.pkg.dev/colab-wheels/public/simple/\n",
            "Collecting tf-keras-vis\n",
            "  Downloading tf_keras_vis-0.8.5-py3-none-any.whl (52 kB)\n",
            "\u001b[2K     \u001b[90m━━━━━━━━━━━━━━━━━━━━━━━━━━━━━━━━━━━━━━━━\u001b[0m \u001b[32m52.1/52.1 kB\u001b[0m \u001b[31m4.9 MB/s\u001b[0m eta \u001b[36m0:00:00\u001b[0m\n",
            "\u001b[?25hRequirement already satisfied: scipy in /usr/local/lib/python3.10/dist-packages (from tf-keras-vis) (1.10.1)\n",
            "Requirement already satisfied: pillow in /usr/local/lib/python3.10/dist-packages (from tf-keras-vis) (8.4.0)\n",
            "Collecting deprecated (from tf-keras-vis)\n",
            "  Downloading Deprecated-1.2.14-py2.py3-none-any.whl (9.6 kB)\n",
            "Requirement already satisfied: imageio in /usr/local/lib/python3.10/dist-packages (from tf-keras-vis) (2.25.1)\n",
            "Requirement already satisfied: packaging in /usr/local/lib/python3.10/dist-packages (from tf-keras-vis) (23.1)\n",
            "Requirement already satisfied: wrapt<2,>=1.10 in /usr/local/lib/python3.10/dist-packages (from deprecated->tf-keras-vis) (1.14.1)\n",
            "Requirement already satisfied: numpy in /usr/local/lib/python3.10/dist-packages (from imageio->tf-keras-vis) (1.22.4)\n",
            "Installing collected packages: deprecated, tf-keras-vis\n",
            "Successfully installed deprecated-1.2.14 tf-keras-vis-0.8.5\n"
          ]
        }
      ]
    },
    {
      "cell_type": "markdown",
      "metadata": {
        "id": "-6AKnUA5yfuv"
      },
      "source": [
        "Change final activation layer from softmax to linear.\n",
        "To compute the gradients, it is recommended to change the softmax activation function by\n",
        "a linear function, since with the softmax the maximization of a class can be achieved by\n",
        "minimising the scores of the other classes, and using a linear function we ensure that the\n",
        "optimization concentrates only on the class in question."
      ]
    },
    {
      "cell_type": "code",
      "metadata": {
        "id": "kw6mt-lW9mJi"
      },
      "source": [
        "from tf_keras_vis.activation_maximization import ActivationMaximization\n",
        "import tensorflow as tf\n",
        "\n",
        "def model_modifier(current_model):\n",
        "    current_model.layers[-1].activation = tf.keras.activations.linear\n",
        "    return current_model\n",
        "\n",
        "activation_maximization = ActivationMaximization(model,model_modifier,clone=False)"
      ],
      "execution_count": 21,
      "outputs": []
    },
    {
      "cell_type": "markdown",
      "metadata": {
        "id": "oiAkPzFv_kbB"
      },
      "source": [
        "Score function to maximize a certain category"
      ]
    },
    {
      "cell_type": "code",
      "metadata": {
        "id": "2wv3YmSE_lKA"
      },
      "source": [
        "from tf_keras_vis.utils.scores import CategoricalScore\n",
        "\n",
        "class_score = 9\n",
        "score = CategoricalScore(class_score)"
      ],
      "execution_count": 22,
      "outputs": []
    },
    {
      "cell_type": "code",
      "metadata": {
        "colab": {
          "base_uri": "https://localhost:8080/"
        },
        "id": "MxhCHRnl_7X1",
        "outputId": "a175c5c3-df11-4410-8b2d-bed7c6c717aa"
      },
      "source": [
        "from tf_keras_vis.activation_maximization.callbacks import PrintLogger as Logger\n",
        "from tf_keras_vis.activation_maximization.callbacks import GifGenerator2D\n",
        "\n",
        "# Generate maximized activation\n",
        "activations = activation_maximization(score,callbacks=[Logger(interval=50)])"
      ],
      "execution_count": 23,
      "outputs": [
        {
          "output_type": "stream",
          "name": "stderr",
          "text": [
            "<ipython-input-23-575e38e8be74>:5: DeprecationWarning: Call to deprecated class PrintLogger. (Use `Progress` instead.) -- Deprecated since version 0.7.0.\n",
            "  activations = activation_maximization(score,callbacks=[Logger(interval=50)])\n"
          ]
        },
        {
          "output_type": "stream",
          "name": "stdout",
          "text": [
            "Steps: 050\tScores: [[107.0589828491211]],\tRegularization: [('TotalVariation2D', [16.63874626159668]), ('Norm', [34.71525573730469])]\n",
            "Steps: 100\tScores: [[-201.8804931640625]],\tRegularization: [('TotalVariation2D', [11.160360336303711]), ('Norm', [30.70933723449707])]\n",
            "Steps: 150\tScores: [[-258.9507141113281]],\tRegularization: [('TotalVariation2D', [9.618680953979492]), ('Norm', [28.050138473510742])]\n",
            "Steps: 200\tScores: [[-148.61383056640625]],\tRegularization: [('TotalVariation2D', [8.15612506866455]), ('Norm', [25.572620391845703])]\n"
          ]
        }
      ]
    },
    {
      "cell_type": "code",
      "metadata": {
        "colab": {
          "base_uri": "https://localhost:8080/",
          "height": 407
        },
        "id": "tqvIsH0-CiyU",
        "outputId": "98fccb87-75bb-43b5-dbac-9747e9845849"
      },
      "source": [
        "# Visualize\n",
        "class_names = ['zero', 'one', 'two', 'three', 'four', 'five', 'six', 'seven', 'eight', 'nine']\n",
        "\n",
        "f, ax = plt.subplots(figsize=(4, 4))\n",
        "ax.imshow(np.squeeze(activations))\n",
        "ax.set_title(class_names[class_score], fontsize=16)\n",
        "ax.axis('off')\n",
        "plt.tight_layout()\n",
        "plt.show()"
      ],
      "execution_count": 25,
      "outputs": [
        {
          "output_type": "display_data",
          "data": {
            "text/plain": [
              "<Figure size 400x400 with 1 Axes>"
            ],
            "image/png": "[encoded data removed]"
          },
          "metadata": {}
        }
      ]
    },
    {
      "cell_type": "markdown",
      "metadata": {
        "id": "XGerYpddxM73"
      },
      "source": [
        "Let's do the same procedure with all the other digits:"
      ]
    },
    {
      "cell_type": "code",
      "metadata": {
        "colab": {
          "base_uri": "https://localhost:8080/"
        },
        "id": "ywB-t2jHJAKq",
        "outputId": "a70c58d8-c036-4e5e-d4bd-1d7102e45280"
      },
      "source": [
        "fig = plt.figure(figsize=(18, 8))\n",
        "for kclass in range(0,10):\n",
        "    score = CategoricalScore(kclass)\n",
        "    activation_maximization = ActivationMaximization(model,model_modifier,clone=False)\n",
        "    activations = activation_maximization(score,callbacks=[Logger(interval=50)])\n",
        "    ax = fig.add_subplot(2, 5, kclass+1)\n",
        "    ax.imshow(np.squeeze(activations))\n",
        "    ax.set_title(class_names[kclass], fontsize=16)\n",
        "    ax.axis('off')"
      ],
      "execution_count": null,
      "outputs": [
        {
          "output_type": "stream",
          "name": "stderr",
          "text": [
            "<ipython-input-26-952120c4a21d>:5: DeprecationWarning: Call to deprecated class PrintLogger. (Use `Progress` instead.) -- Deprecated since version 0.7.0.\n",
            "  activations = activation_maximization(score,callbacks=[Logger(interval=50)])\n"
          ]
        },
        {
          "output_type": "stream",
          "name": "stdout",
          "text": [
            "Steps: 050\tScores: [[-123.71678924560547]],\tRegularization: [('TotalVariation2D', [25.050277709960938]), ('Norm', [34.11522674560547])]\n",
            "Steps: 100\tScores: [[500.46905517578125]],\tRegularization: [('TotalVariation2D', [13.996923446655273]), ('Norm', [32.11552810668945])]\n",
            "Steps: 150\tScores: [[195.71255493164062]],\tRegularization: [('TotalVariation2D', [10.415980339050293]), ('Norm', [30.75913429260254])]\n",
            "Steps: 200\tScores: [[106.59308624267578]],\tRegularization: [('TotalVariation2D', [8.723583221435547]), ('Norm', [29.35279655456543])]\n",
            "Steps: 050\tScores: [[-324.4898986816406]],\tRegularization: [('TotalVariation2D', [19.095443725585938]), ('Norm', [34.03248977661133])]\n",
            "Steps: 100\tScores: [[447.05889892578125]],\tRegularization: [('TotalVariation2D', [12.356322288513184]), ('Norm', [32.9455680847168])]\n",
            "Steps: 150\tScores: [[-211.94354248046875]],\tRegularization: [('TotalVariation2D', [9.796029090881348]), ('Norm', [31.793670654296875])]\n",
            "Steps: 200\tScores: [[414.9046630859375]],\tRegularization: [('TotalVariation2D', [9.80366039276123]), ('Norm', [30.702756881713867])]\n",
            "Steps: 050\tScores: [[3836.25634765625]],\tRegularization: [('TotalVariation2D', [47.42060852050781]), ('Norm', [35.12281799316406])]\n",
            "Steps: 100\tScores: [[2668.01611328125]],\tRegularization: [('TotalVariation2D', [30.11023712158203]), ('Norm', [33.35173034667969])]\n",
            "Steps: 150\tScores: [[6.717961311340332]],\tRegularization: [('TotalVariation2D', [19.167879104614258]), ('Norm', [32.388641357421875])]\n",
            "Steps: 200\tScores: [[38.37405776977539]],\tRegularization: [('TotalVariation2D', [14.100252151489258]), ('Norm', [31.812829971313477])]\n",
            "Steps: 050\tScores: [[174.83438110351562]],\tRegularization: [('TotalVariation2D', [33.440223693847656]), ('Norm', [31.761960983276367])]\n",
            "Steps: 100\tScores: [[983.7745361328125]],\tRegularization: [('TotalVariation2D', [25.892051696777344]), ('Norm', [28.934158325195312])]\n",
            "Steps: 150\tScores: [[-912.9510498046875]],\tRegularization: [('TotalVariation2D', [27.065183639526367]), ('Norm', [25.950809478759766])]\n",
            "Steps: 200\tScores: [[33.740379333496094]],\tRegularization: [('TotalVariation2D', [14.744056701660156]), ('Norm', [24.021591186523438])]\n",
            "Steps: 050\tScores: [[-354.8451843261719]],\tRegularization: [('TotalVariation2D', [33.30545425415039]), ('Norm', [38.573265075683594])]\n",
            "Steps: 100\tScores: [[518.3441772460938]],\tRegularization: [('TotalVariation2D', [25.708087921142578]), ('Norm', [37.00511932373047])]\n",
            "Steps: 150\tScores: [[-391.37353515625]],\tRegularization: [('TotalVariation2D', [15.577119827270508]), ('Norm', [35.46468734741211])]\n",
            "Steps: 200\tScores: [[382.82403564453125]],\tRegularization: [('TotalVariation2D', [12.352368354797363]), ('Norm', [34.621273040771484])]\n",
            "Steps: 050\tScores: [[360.04437255859375]],\tRegularization: [('TotalVariation2D', [26.31192970275879]), ('Norm', [32.83396530151367])]\n",
            "Steps: 100\tScores: [[-153.51177978515625]],\tRegularization: [('TotalVariation2D', [10.547958374023438]), ('Norm', [29.957910537719727])]\n",
            "Steps: 150\tScores: [[-257.4693603515625]],\tRegularization: [('TotalVariation2D', [10.029269218444824]), ('Norm', [27.38729476928711])]\n",
            "Steps: 200\tScores: [[-111.91637420654297]],\tRegularization: [('TotalVariation2D', [9.425395965576172]), ('Norm', [25.22743034362793])]\n",
            "Steps: 050\tScores: [[178.74258422851562]],\tRegularization: [('TotalVariation2D', [35.45136260986328]), ('Norm', [31.208099365234375])]\n",
            "Steps: 100\tScores: [[-52.666893005371094]],\tRegularization: [('TotalVariation2D', [15.892735481262207]), ('Norm', [27.840173721313477])]\n",
            "Steps: 150\tScores: [[-105.94135284423828]],\tRegularization: [('TotalVariation2D', [12.084534645080566]), ('Norm', [25.353958129882812])]\n"
          ]
        }
      ]
    },
    {
      "cell_type": "markdown",
      "metadata": {
        "id": "120-xM_aD11V"
      },
      "source": [
        "## Gradient-based interpretability"
      ]
    },
    {
      "cell_type": "code",
      "metadata": {
        "colab": {
          "base_uri": "https://localhost:8080/",
          "height": 499
        },
        "id": "C-nJY7LMDxrT",
        "outputId": "5811e290-0bdc-4cd6-f590-7cbc54c3054f"
      },
      "source": [
        "from tensorflow.keras.preprocessing.image import load_img\n",
        "\n",
        "# Image titles\n",
        "image_titles = ['seven', 'two', 'one','zero','four','one']\n",
        "\n",
        "# Load images and Convert them to a Numpy array\n",
        "img1 = x_test[0].reshape(28,28)\n",
        "img2 = x_test[1].reshape(28,28)\n",
        "img3 = x_test[2].reshape(28,28)\n",
        "img4 = x_test[3].reshape(28,28)\n",
        "img5 = x_test[4].reshape(28,28)\n",
        "img6 = x_test[5].reshape(28,28)\n",
        "\n",
        "fig = plt.figure(figsize=(18, 8))\n",
        "ax = fig.add_subplot(2, 3, 1)\n",
        "ax.imshow(img1, cmap='gray')\n",
        "ax.set_title('img1:'+ image_titles[0])\n",
        "ax = fig.add_subplot(2, 3, 2)\n",
        "ax.imshow(img2, cmap='gray')\n",
        "ax.set_title('img2:'+ image_titles[1])\n",
        "ax = fig.add_subplot(2,3, 3)\n",
        "ax.imshow(img3, cmap='gray')\n",
        "ax.set_title('img3:' + image_titles[2])\n",
        "ax = fig.add_subplot(2,3, 4)\n",
        "ax.imshow(img4, cmap='gray')\n",
        "ax.set_title('img4:' + image_titles[3])\n",
        "ax = fig.add_subplot(2,3, 5)\n",
        "ax.imshow(img5, cmap='gray')\n",
        "ax.set_title('img5:' + image_titles[4])\n",
        "ax = fig.add_subplot(2,3, 6)\n",
        "ax.imshow(img6, cmap='gray')\n",
        "ax.set_title('img6:' + image_titles[5])\n",
        "ax.axis('off')\n",
        "plt.show()\n",
        "\n"
      ],
      "execution_count": null,
      "outputs": [
        {
          "output_type": "display_data",
          "data": {
            "text/plain": [
              "<Figure size 1296x576 with 6 Axes>"
            ],
            "image/png": "[encoded data removed]"
          },
          "metadata": {
            "needs_background": "light"
          }
        }
      ]
    },
    {
      "cell_type": "markdown",
      "metadata": {
        "id": "FGf0gBvxHRVx"
      },
      "source": [
        "### GradCam\n",
        "\n",
        "Grad-CAM: Visual Explanations from Deep Networks via Gradient-based Localization\n",
        "\n",
        "https://arxiv.org/abs/1610.02391\n",
        "\n",
        "\n"
      ]
    },
    {
      "cell_type": "code",
      "metadata": {
        "colab": {
          "base_uri": "https://localhost:8080/",
          "height": 180
        },
        "id": "rYR9QzAXFC6I",
        "outputId": "6ce68f3d-97de-4c23-bab7-a95a5b61b59a"
      },
      "source": [
        "images = np.asarray([np.array(img1), np.array(img2), np.array(img3),np.array(img4),np.array(img5),np.array(img6)])\n",
        "X = images.reshape(6,28,28,1)\n",
        "\n",
        "score = CategoricalScore([7, 2, 1, 0, 4, 1])\n",
        "\n",
        "from matplotlib import cm\n",
        "from tf_keras_vis.gradcam import Gradcam\n",
        "\n",
        "# Create Gradcam object\n",
        "gradcam = Gradcam(model,model_modifier=model_modifier,clone=False)\n",
        "\n",
        "# Generate heatmap with GradCAM\n",
        "cam = gradcam(score, X, penultimate_layer=-1)\n",
        "\n",
        "# Render\n",
        "f, ax = plt.subplots(nrows=1, ncols=6, figsize=(12, 4))\n",
        "for i, title in enumerate(image_titles):\n",
        "    heatmap = np.uint8(cm.jet(cam[i])[..., :3] * 255)\n",
        "    ax[i].set_title(title, fontsize=16)\n",
        "    ax[i].imshow(heatmap, cmap='jet', alpha=1) # overlay\n",
        "    ax[i].axis('off')\n",
        "plt.tight_layout()\n",
        "plt.show()\n"
      ],
      "execution_count": null,
      "outputs": [
        {
          "output_type": "display_data",
          "data": {
            "text/plain": [
              "<Figure size 864x288 with 6 Axes>"
            ],
            "image/png": "[encoded data removed]"
          },
          "metadata": {
            "needs_background": "light"
          }
        }
      ]
    },
    {
      "cell_type": "markdown",
      "metadata": {
        "id": "I1ZIdZACHTNH"
      },
      "source": [
        "### GradCam++"
      ]
    },
    {
      "cell_type": "code",
      "metadata": {
        "colab": {
          "base_uri": "https://localhost:8080/",
          "height": 180
        },
        "id": "4zZvgzQQF9T_",
        "outputId": "98fbd71c-336b-4b20-e343-1a2ea27feada"
      },
      "source": [
        "from tf_keras_vis.gradcam import GradcamPlusPlus\n",
        "\n",
        "from matplotlib import cm\n",
        "from tf_keras_vis.gradcam import Gradcam\n",
        "\n",
        "# Create GradCAM++ object and repalce class name to \"GradcamPlusPlus\"\n",
        "gradcamplus = GradcamPlusPlus(model,model_modifier,clone=False)\n",
        "\n",
        "# Generate heatmap with GradCAM\n",
        "camplus = gradcamplus(score, X, penultimate_layer=-1)\n",
        "\n",
        "# Render\n",
        "f, ax = plt.subplots(nrows=1, ncols=6, figsize=(12, 4))\n",
        "for i, title in enumerate(image_titles):\n",
        "    heatmap = np.uint8(cm.jet(camplus[i])[..., :3] * 255)\n",
        "    ax[i].set_title(title, fontsize=16)\n",
        "    ax[i].imshow(heatmap, cmap='jet', alpha=1) # overlay\n",
        "    ax[i].axis('off')\n",
        "plt.tight_layout()\n",
        "plt.show()\n",
        "\n"
      ],
      "execution_count": null,
      "outputs": [
        {
          "output_type": "display_data",
          "data": {
            "text/plain": [
              "<Figure size 864x288 with 6 Axes>"
            ],
            "image/png": "[encoded data removed]"
          },
          "metadata": {
            "needs_background": "light"
          }
        }
      ]
    }
  ]
}